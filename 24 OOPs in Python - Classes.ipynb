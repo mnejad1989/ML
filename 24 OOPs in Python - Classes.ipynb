{
 "cells": [
  {
   "cell_type": "markdown",
   "id": "d5283b0e",
   "metadata": {},
   "source": [
    "# OOPs\n",
    "\n",
    "In Python, object-oriented Programming (OOPs) is a programming paradigm that uses objects and classes in programming. \n",
    "\n",
    "It aims to implement real-world entities like inheritance, polymorphisms, encapsulation, etc. in the programming. \n",
    "\n",
    "The main concept of OOPs is to bind the data and the functions that work on that together as a single unit so that no other part of the code can access this data."
   ]
  },
  {
   "cell_type": "markdown",
   "id": "4ab3dd2f",
   "metadata": {},
   "source": [
    "# class\n",
    "\n",
    "They are real world objects that have some properties, attribites and functions. \n",
    "\n",
    "Like a car in the real world."
   ]
  },
  {
   "cell_type": "code",
   "execution_count": 1,
   "id": "6260f74b",
   "metadata": {},
   "outputs": [],
   "source": [
    "# define a class\n",
    "\n",
    "class car:\n",
    "     pass\n",
    "    # making this particular class as an empty class"
   ]
  },
  {
   "cell_type": "markdown",
   "id": "0a83fc5b",
   "metadata": {},
   "source": [
    "here, we define it in a bad way\n",
    "and later on, we define it in a proper way"
   ]
  },
  {
   "cell_type": "code",
   "execution_count": 2,
   "id": "c3604789",
   "metadata": {},
   "outputs": [],
   "source": [
    "# initialze an object from this particular class\n",
    "# instantiate from that particular class\n",
    "\n",
    "car1 = car()"
   ]
  },
  {
   "cell_type": "code",
   "execution_count": 3,
   "id": "eacb9f9d",
   "metadata": {},
   "outputs": [
    {
     "data": {
      "text/plain": [
       "<__main__.car at 0x28869964f10>"
      ]
     },
     "execution_count": 3,
     "metadata": {},
     "output_type": "execute_result"
    }
   ],
   "source": [
    "car1"
   ]
  },
  {
   "cell_type": "code",
   "execution_count": 4,
   "id": "c9d27943",
   "metadata": {},
   "outputs": [],
   "source": [
    "# define properties\n",
    "\n",
    "car1.windows=5\n",
    "car1.doors=4"
   ]
  },
  {
   "cell_type": "code",
   "execution_count": 7,
   "id": "c162fc55",
   "metadata": {},
   "outputs": [
    {
     "data": {
      "text/plain": [
       "5"
      ]
     },
     "execution_count": 7,
     "metadata": {},
     "output_type": "execute_result"
    }
   ],
   "source": [
    "car1.windows"
   ]
  },
  {
   "cell_type": "code",
   "execution_count": 10,
   "id": "3103b5b7",
   "metadata": {},
   "outputs": [],
   "source": [
    "car2=car()\n",
    "car2.windows=3\n",
    "car2.doors=2"
   ]
  },
  {
   "cell_type": "code",
   "execution_count": 11,
   "id": "7b1c0a9d",
   "metadata": {},
   "outputs": [
    {
     "data": {
      "text/plain": [
       "2"
      ]
     },
     "execution_count": 11,
     "metadata": {},
     "output_type": "execute_result"
    }
   ],
   "source": [
    "car2.doors"
   ]
  },
  {
   "cell_type": "code",
   "execution_count": 12,
   "id": "c7590a74",
   "metadata": {},
   "outputs": [],
   "source": [
    "car2.enginType=\"petrol\""
   ]
  },
  {
   "cell_type": "code",
   "execution_count": 14,
   "id": "8f807d73",
   "metadata": {},
   "outputs": [
    {
     "name": "stdout",
     "output_type": "stream",
     "text": [
      "petrol\n"
     ]
    }
   ],
   "source": [
    "print(car2.enginType)"
   ]
  },
  {
   "cell_type": "markdown",
   "id": "65bf7a65",
   "metadata": {},
   "source": [
    "in this way that the number of attributes is not fixes\n",
    "any number attributes can be created by the developer\n",
    "\n",
    "it's not a good approach"
   ]
  },
  {
   "cell_type": "code",
   "execution_count": 15,
   "id": "53e4b660",
   "metadata": {},
   "outputs": [
    {
     "data": {
      "text/plain": [
       "['__class__',\n",
       " '__delattr__',\n",
       " '__dict__',\n",
       " '__dir__',\n",
       " '__doc__',\n",
       " '__eq__',\n",
       " '__format__',\n",
       " '__ge__',\n",
       " '__getattribute__',\n",
       " '__gt__',\n",
       " '__hash__',\n",
       " '__init__',\n",
       " '__init_subclass__',\n",
       " '__le__',\n",
       " '__lt__',\n",
       " '__module__',\n",
       " '__ne__',\n",
       " '__new__',\n",
       " '__reduce__',\n",
       " '__reduce_ex__',\n",
       " '__repr__',\n",
       " '__setattr__',\n",
       " '__sizeof__',\n",
       " '__str__',\n",
       " '__subclasshook__',\n",
       " '__weakref__',\n",
       " 'doors',\n",
       " 'windows']"
      ]
     },
     "execution_count": 15,
     "metadata": {},
     "output_type": "execute_result"
    }
   ],
   "source": [
    "# showing the __init__ which is the constructor\n",
    "# it basically initializes how many properties are used inside the class\n",
    "\n",
    "dir(car1)"
   ]
  },
  {
   "cell_type": "code",
   "execution_count": 19,
   "id": "74888fcd",
   "metadata": {},
   "outputs": [],
   "source": [
    "# self refers to that particular object\n",
    "\n",
    "class car:\n",
    "    def __init__(self,windows,doors,engineType):\n",
    "        self.windows = windows\n",
    "        self.doors = doors\n",
    "        self.engineType = engineType     \n"
   ]
  },
  {
   "cell_type": "code",
   "execution_count": 20,
   "id": "5a8273be",
   "metadata": {},
   "outputs": [
    {
     "ename": "TypeError",
     "evalue": "__init__() missing 3 required positional arguments: 'windows', 'doors', and 'engineType'",
     "output_type": "error",
     "traceback": [
      "\u001b[1;31m---------------------------------------------------------------------------\u001b[0m",
      "\u001b[1;31mTypeError\u001b[0m                                 Traceback (most recent call last)",
      "Input \u001b[1;32mIn [20]\u001b[0m, in \u001b[0;36m<cell line: 1>\u001b[1;34m()\u001b[0m\n\u001b[1;32m----> 1\u001b[0m car1 \u001b[38;5;241m=\u001b[39m \u001b[43mcar\u001b[49m\u001b[43m(\u001b[49m\u001b[43m)\u001b[49m\n",
      "\u001b[1;31mTypeError\u001b[0m: __init__() missing 3 required positional arguments: 'windows', 'doors', and 'engineType'"
     ]
    }
   ],
   "source": [
    "car1 = car()"
   ]
  },
  {
   "cell_type": "code",
   "execution_count": 21,
   "id": "4e821883",
   "metadata": {},
   "outputs": [],
   "source": [
    "car1 = car(4,5,\"Petrol\")"
   ]
  },
  {
   "cell_type": "code",
   "execution_count": 22,
   "id": "aca44742",
   "metadata": {},
   "outputs": [],
   "source": [
    "car2 = car(3,4,'Diesel')"
   ]
  },
  {
   "cell_type": "code",
   "execution_count": 23,
   "id": "4563866c",
   "metadata": {},
   "outputs": [
    {
     "name": "stdout",
     "output_type": "stream",
     "text": [
      "4\n"
     ]
    }
   ],
   "source": [
    "print(car1.windows)"
   ]
  },
  {
   "cell_type": "code",
   "execution_count": 25,
   "id": "3543f422",
   "metadata": {},
   "outputs": [
    {
     "name": "stdout",
     "output_type": "stream",
     "text": [
      "Diesel\n"
     ]
    }
   ],
   "source": [
    "print(car2.engineType)"
   ]
  },
  {
   "cell_type": "code",
   "execution_count": 31,
   "id": "696b0af4",
   "metadata": {},
   "outputs": [],
   "source": [
    "class car:\n",
    "    def __init__(self,windows,doors,engineType):\n",
    "        self.windows = windows\n",
    "        self.doors = doors\n",
    "        self.engineType = engineType \n",
    "        # properties\n",
    "        \n",
    "    # method\n",
    "    # by calling self here we can access the attributes like doors, windows...\n",
    "    def self_driving(self):\n",
    "        return \"This is a {} car!\".format(self.engineType)\n",
    "    "
   ]
  },
  {
   "cell_type": "code",
   "execution_count": 32,
   "id": "fa2b015d",
   "metadata": {},
   "outputs": [],
   "source": [
    "car3 = car(3,4,'Diesel')"
   ]
  },
  {
   "cell_type": "code",
   "execution_count": 33,
   "id": "55ff48af",
   "metadata": {},
   "outputs": [
    {
     "data": {
      "text/plain": [
       "'This is a Diesel car!'"
      ]
     },
     "execution_count": 33,
     "metadata": {},
     "output_type": "execute_result"
    }
   ],
   "source": [
    "car3.self_driving()"
   ]
  },
  {
   "cell_type": "code",
   "execution_count": null,
   "id": "2021d00a",
   "metadata": {},
   "outputs": [],
   "source": []
  }
 ],
 "metadata": {
  "kernelspec": {
   "display_name": "Python 3 (ipykernel)",
   "language": "python",
   "name": "python3"
  },
  "language_info": {
   "codemirror_mode": {
    "name": "ipython",
    "version": 3
   },
   "file_extension": ".py",
   "mimetype": "text/x-python",
   "name": "python",
   "nbconvert_exporter": "python",
   "pygments_lexer": "ipython3",
   "version": "3.9.12"
  }
 },
 "nbformat": 4,
 "nbformat_minor": 5
}
