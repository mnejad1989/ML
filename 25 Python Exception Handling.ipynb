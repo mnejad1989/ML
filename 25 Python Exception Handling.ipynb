{
 "cells": [
  {
   "cell_type": "markdown",
   "id": "e936742f",
   "metadata": {},
   "source": [
    "# Difference between Errors and Exceptions\n",
    "\n",
    "Errors could be identified & corrected during compile time; whereas Exceptions can be only identified during run time and can be handled with try catch.\n",
    "\n",
    "Errors can be corrected during compilation of source code or even at runtime. It can syntax error or semantic error. Exceptions are caused during run time when the interpreter gets some unexpected data. They are handled using try and except technique. "
   ]
  },
  {
   "cell_type": "code",
   "execution_count": 1,
   "id": "d0802281",
   "metadata": {},
   "outputs": [],
   "source": [
    "a=10"
   ]
  },
  {
   "cell_type": "code",
   "execution_count": 2,
   "id": "58f7f7df",
   "metadata": {},
   "outputs": [
    {
     "ename": "NameError",
     "evalue": "name 'b' is not defined",
     "output_type": "error",
     "traceback": [
      "\u001b[1;31m---------------------------------------------------------------------------\u001b[0m",
      "\u001b[1;31mNameError\u001b[0m                                 Traceback (most recent call last)",
      "Input \u001b[1;32mIn [2]\u001b[0m, in \u001b[0;36m<cell line: 1>\u001b[1;34m()\u001b[0m\n\u001b[1;32m----> 1\u001b[0m a\u001b[38;5;241m=\u001b[39m\u001b[43mb\u001b[49m\n",
      "\u001b[1;31mNameError\u001b[0m: name 'b' is not defined"
     ]
    }
   ],
   "source": [
    "# this is an error\n",
    "\n",
    "a=b"
   ]
  },
  {
   "cell_type": "code",
   "execution_count": 3,
   "id": "5533d6c3",
   "metadata": {},
   "outputs": [
    {
     "name": "stdout",
     "output_type": "stream",
     "text": [
      "Some problem has occured!\n"
     ]
    }
   ],
   "source": [
    "try:\n",
    "    ## code block where exception could happen\n",
    "    a=b\n",
    "except:\n",
    "    print(\"Some problem has occured!\")"
   ]
  },
  {
   "cell_type": "code",
   "execution_count": 5,
   "id": "6418853c",
   "metadata": {},
   "outputs": [
    {
     "name": "stdout",
     "output_type": "stream",
     "text": [
      "name 'b' is not defined\n"
     ]
    }
   ],
   "source": [
    "try:\n",
    "    ## code block where exception could happen\n",
    "    a=b\n",
    "except Exception as ex:\n",
    "    print(ex)\n",
    "    # the same message we got when we didn't use try except"
   ]
  },
  {
   "cell_type": "code",
   "execution_count": 6,
   "id": "54279d97",
   "metadata": {},
   "outputs": [
    {
     "name": "stdout",
     "output_type": "stream",
     "text": [
      "(\"name 'b' is not defined\",)\n"
     ]
    }
   ],
   "source": [
    "try:\n",
    "    ## code block where exception could happen\n",
    "    a=b\n",
    "except Exception as ex:\n",
    "    print(ex.args)\n",
    "    # the same message we got when we didn't use try except"
   ]
  },
  {
   "cell_type": "code",
   "execution_count": 7,
   "id": "9cfa08d4",
   "metadata": {},
   "outputs": [
    {
     "name": "stdout",
     "output_type": "stream",
     "text": [
      "<built-in method with_traceback of NameError object at 0x000002231A97D770>\n"
     ]
    }
   ],
   "source": [
    "try:\n",
    "    ## code block where exception could happen\n",
    "    a=b\n",
    "except Exception as ex:\n",
    "    print(ex.with_traceback)\n",
    "    # the same message we got when we didn't use try except"
   ]
  },
  {
   "cell_type": "code",
   "execution_count": 20,
   "id": "dd1a6310",
   "metadata": {},
   "outputs": [
    {
     "name": "stdout",
     "output_type": "stream",
     "text": [
      "The user have not dedfined the variable\n"
     ]
    }
   ],
   "source": [
    "# handling NameError exception\n",
    "\n",
    "try:\n",
    "    ## code block where exception could happen\n",
    "    a=u\n",
    "\n",
    "# child exception class\n",
    "except NameError:\n",
    "    print(\"The user have not dedfined the variable\")\n",
    "\n",
    "# generic exception class. to be written at the last\n",
    "# because it catches all exceptions\n",
    "except Exception as ex:\n",
    "    print(ex)\n",
    "    # the same message we got when we didn't use try except"
   ]
  },
  {
   "cell_type": "code",
   "execution_count": 18,
   "id": "206bc4a3",
   "metadata": {},
   "outputs": [
    {
     "name": "stdout",
     "output_type": "stream",
     "text": [
      "unsupported operand type(s) for +: 'int' and 'str'\n"
     ]
    }
   ],
   "source": [
    "# handling NameError exception\n",
    "\n",
    "try:\n",
    "    ## code block where exception could happen\n",
    "    a=10\n",
    "    b=\"ze\"\n",
    "    c=a+b\n",
    "except NameError:\n",
    "    print(\"The user have not dedfined the variable\")\n",
    "    # if it is not handled here, it goes to the next line \n",
    "    # where we have handled the exception in a general way\n",
    "    \n",
    "except Exception as ex:\n",
    "    print(ex)\n",
    "    # the same message we got when we didn't use try except"
   ]
  },
  {
   "cell_type": "code",
   "execution_count": 10,
   "id": "bd03b412",
   "metadata": {},
   "outputs": [
    {
     "ename": "TypeError",
     "evalue": "unsupported operand type(s) for +: 'int' and 'str'",
     "output_type": "error",
     "traceback": [
      "\u001b[1;31m---------------------------------------------------------------------------\u001b[0m",
      "\u001b[1;31mTypeError\u001b[0m                                 Traceback (most recent call last)",
      "Input \u001b[1;32mIn [10]\u001b[0m, in \u001b[0;36m<cell line: 3>\u001b[1;34m()\u001b[0m\n\u001b[0;32m      1\u001b[0m a\u001b[38;5;241m=\u001b[39m\u001b[38;5;241m10\u001b[39m\n\u001b[0;32m      2\u001b[0m b\u001b[38;5;241m=\u001b[39m\u001b[38;5;124m\"\u001b[39m\u001b[38;5;124mze\u001b[39m\u001b[38;5;124m\"\u001b[39m\n\u001b[1;32m----> 3\u001b[0m c\u001b[38;5;241m=\u001b[39m\u001b[43ma\u001b[49m\u001b[38;5;241;43m+\u001b[39;49m\u001b[43mb\u001b[49m\n",
      "\u001b[1;31mTypeError\u001b[0m: unsupported operand type(s) for +: 'int' and 'str'"
     ]
    }
   ],
   "source": [
    "a=10\n",
    "b=\"ze\"\n",
    "c=a+b"
   ]
  },
  {
   "cell_type": "code",
   "execution_count": 11,
   "id": "2a161612",
   "metadata": {},
   "outputs": [
    {
     "name": "stdout",
     "output_type": "stream",
     "text": [
      "The types don't match\n"
     ]
    }
   ],
   "source": [
    "try:\n",
    "    ## code block where exception could happen\n",
    "    a=10\n",
    "    b=\"ze\"\n",
    "    c=a+b\n",
    "\n",
    "except NameError:\n",
    "    print(\"The user have not dedfined the variable\")\n",
    "    \n",
    "except TypeError:\n",
    "    print(\"The types don't match\")\n",
    "    # if it is not handled here, it goes to the next line \n",
    "    # where TypeErrorwe have handled the exception in a general way\n",
    "    \n",
    "except Exception as ex:\n",
    "    print(ex)\n",
    "    # the same message we got when we didn't use try except"
   ]
  },
  {
   "cell_type": "code",
   "execution_count": 13,
   "id": "884e204a",
   "metadata": {},
   "outputs": [
    {
     "name": "stdout",
     "output_type": "stream",
     "text": [
      "Enter the first number: 12\n",
      "Enter the second number: 0\n",
      "division by zero\n"
     ]
    }
   ],
   "source": [
    "try:\n",
    "    ## code block where exception could happen\n",
    "    a=int(input(\"Enter the first number: \"))\n",
    "    b=int(input(\"Enter the second number: \"))\n",
    "    c=a/b\n",
    "    d=a*b\n",
    "    e=a+b\n",
    "    print(c)\n",
    "    print(d)\n",
    "    print(e)\n",
    "\n",
    "except NameError:\n",
    "    print(\"The user have not dedfined the variable\")\n",
    "    \n",
    "except TypeError:\n",
    "    print(\"The types don't match\")\n",
    "    # if it is not handled here, it goes to the next line \n",
    "    # where TypeErrorwe have handled the exception in a general way\n",
    "    \n",
    "except Exception as ex:\n",
    "    print(ex)\n",
    "    # the same message we got when we didn't use try except"
   ]
  },
  {
   "cell_type": "code",
   "execution_count": 14,
   "id": "22e483cf",
   "metadata": {},
   "outputs": [
    {
     "ename": "ZeroDivisionError",
     "evalue": "division by zero",
     "output_type": "error",
     "traceback": [
      "\u001b[1;31m---------------------------------------------------------------------------\u001b[0m",
      "\u001b[1;31mZeroDivisionError\u001b[0m                         Traceback (most recent call last)",
      "Input \u001b[1;32mIn [14]\u001b[0m, in \u001b[0;36m<cell line: 1>\u001b[1;34m()\u001b[0m\n\u001b[1;32m----> 1\u001b[0m \u001b[38;5;241;43m12\u001b[39;49m\u001b[38;5;241;43m/\u001b[39;49m\u001b[38;5;241;43m0\u001b[39;49m\n",
      "\u001b[1;31mZeroDivisionError\u001b[0m: division by zero"
     ]
    }
   ],
   "source": [
    "12/0"
   ]
  },
  {
   "cell_type": "code",
   "execution_count": 15,
   "id": "b182fabb",
   "metadata": {},
   "outputs": [
    {
     "name": "stdout",
     "output_type": "stream",
     "text": [
      "Enter the first number: 1\n",
      "Enter the second number: 0\n",
      "Please do not enter zero\n"
     ]
    }
   ],
   "source": [
    "try:\n",
    "    ## code block where exception could happen\n",
    "    a=int(input(\"Enter the first number: \"))\n",
    "    b=int(input(\"Enter the second number: \"))\n",
    "    c=a/b\n",
    "    d=a*b\n",
    "    e=a+b\n",
    "    print(c)\n",
    "    print(d)\n",
    "    print(e)\n",
    "\n",
    "except ZeroDivisionError:\n",
    "    print(\"Please do not enter zero\")\n",
    "    \n",
    "except NameError:\n",
    "    print(\"The user have not dedfined the variable\")\n",
    "    \n",
    "except TypeError:\n",
    "    print(\"The types don't match\")\n",
    "    # if it is not handled here, it goes to the next line \n",
    "    # where TypeErrorwe have handled the exception in a general way\n",
    "    \n",
    "except Exception as ex:\n",
    "    print(ex)\n",
    "    # the same message we got when we didn't use try except"
   ]
  },
  {
   "cell_type": "code",
   "execution_count": 21,
   "id": "fa57c1c1",
   "metadata": {},
   "outputs": [
    {
     "name": "stdout",
     "output_type": "stream",
     "text": [
      "Enter the first number: 12\n",
      "Enter the second number: 3\n",
      "4.0\n",
      "36\n",
      "15\n"
     ]
    }
   ],
   "source": [
    "# try else\n",
    "try:\n",
    "    ## code block where exception could happen\n",
    "    a=int(input(\"Enter the first number: \"))\n",
    "    b=int(input(\"Enter the second number: \"))\n",
    "    c=a/b\n",
    "    d=a*b\n",
    "    e=a+b\n",
    "\n",
    "except ZeroDivisionError:\n",
    "    print(\"Please do not enter zero\")\n",
    "    \n",
    "except NameError:\n",
    "    print(\"The user have not dedfined the variable\")\n",
    "    \n",
    "except TypeError:\n",
    "    print(\"The types don't match\")\n",
    "    # if it is not handled here, it goes to the next line \n",
    "    # where TypeErrorwe have handled the exception in a general way\n",
    "    \n",
    "except Exception as ex:\n",
    "    print(ex)\n",
    "    # the same message we got when we didn't use try except\n",
    "\n",
    "# we can also use else block. it will be executed when there is no exception\n",
    "else:\n",
    "    print(c)\n",
    "    print(d)\n",
    "    print(e)"
   ]
  },
  {
   "cell_type": "code",
   "execution_count": 22,
   "id": "ef49db42",
   "metadata": {},
   "outputs": [
    {
     "name": "stdout",
     "output_type": "stream",
     "text": [
      "Enter the first number: 12\n",
      "Enter the second number: 0\n",
      "Please do not enter zero\n"
     ]
    }
   ],
   "source": [
    "# try else finally\n",
    "try:\n",
    "    ## code block where exception could happen\n",
    "    a=int(input(\"Enter the first number: \"))\n",
    "    b=int(input(\"Enter the second number: \"))\n",
    "    c=a/b\n",
    "    d=a*b\n",
    "    e=a+b\n",
    "\n",
    "except ZeroDivisionError:\n",
    "    print(\"Please do not enter zero\")\n",
    "    \n",
    "except NameError:\n",
    "    print(\"The user have not dedfined the variable\")\n",
    "    \n",
    "except TypeError:\n",
    "    print(\"The types don't match\")\n",
    "    # if it is not handled here, it goes to the next line \n",
    "    # where TypeErrorwe have handled the exception in a general way\n",
    "    \n",
    "except Exception as ex:\n",
    "    print(ex)\n",
    "    # the same message we got when we didn't use try except\n",
    "\n",
    "# we can also use else block. it will be executed when there is no exception\n",
    "else:\n",
    "    print(c)\n",
    "    print(d)\n",
    "    print(e)"
   ]
  },
  {
   "cell_type": "code",
   "execution_count": 27,
   "id": "db10c08b",
   "metadata": {},
   "outputs": [
    {
     "name": "stdout",
     "output_type": "stream",
     "text": [
      "Enter the first number: 12\n",
      "Enter the second number: 3\n",
      "4.0\n",
      "36\n",
      "15\n",
      "The execution is done!\n"
     ]
    }
   ],
   "source": [
    "# try else finally\n",
    "try:\n",
    "    ## code block where exception could happen\n",
    "    a=int(input(\"Enter the first number: \"))\n",
    "    b=int(input(\"Enter the second number: \"))\n",
    "    c=a/b\n",
    "    d=a*b\n",
    "    e=a+b\n",
    "\n",
    "except ZeroDivisionError:\n",
    "    print(\"Please do not enter zero\")\n",
    "    \n",
    "except NameError:\n",
    "    print(\"The user have not dedfined the variable\")\n",
    "    \n",
    "except TypeError:\n",
    "    print(\"The types don't match\")\n",
    "    # if it is not handled here, it goes to the next line \n",
    "    # where TypeErrorwe have handled the exception in a general way\n",
    "    \n",
    "except Exception as ex:\n",
    "    print(ex)\n",
    "    # the same message we got when we didn't use try except\n",
    "\n",
    "# we can also use else block. it will be executed when there is no exception\n",
    "else:\n",
    "    print(c)\n",
    "    print(d)\n",
    "    print(e)\n",
    "\n",
    "# finally will be executed anyway\n",
    "# it is useful in cases like terminating the connection to database\n",
    "# which should be done anyway\n",
    "finally:\n",
    "    print(\"The execution is done!\")"
   ]
  },
  {
   "cell_type": "markdown",
   "id": "5b8eccf3",
   "metadata": {},
   "source": [
    "# Custom Exception"
   ]
  },
  {
   "cell_type": "code",
   "execution_count": 33,
   "id": "57be39b6",
   "metadata": {},
   "outputs": [],
   "source": [
    "# inherit from the Exception class\n",
    "class Error(Exception):\n",
    "    pass\n",
    "\n",
    "# date of birth exception\n",
    "class dobException(Error):\n",
    "    pass\n",
    "\n",
    "# you can also inherit from Exception directly\n",
    "class customGeneric(Error):\n",
    "    pass"
   ]
  },
  {
   "cell_type": "code",
   "execution_count": 32,
   "id": "3b94da33",
   "metadata": {},
   "outputs": [
    {
     "name": "stdout",
     "output_type": "stream",
     "text": [
      "Enter the year of birth date: 1989\n",
      "The age is not valid!\n",
      "Age: 33\n"
     ]
    }
   ],
   "source": [
    "year = int(input(\"Enter the year of birth date: \"))\n",
    "age = 2022 - year\n",
    "try:\n",
    "    if age<=30 & age>20:\n",
    "        print(\"The age is valid!\")\n",
    "    else:\n",
    "        raise dobException\n",
    "except dobException:\n",
    "    print(\"The age is not valid!\")\n",
    "    \n",
    "finally:\n",
    "    print(\"Age: {}\".format(age))"
   ]
  },
  {
   "cell_type": "code",
   "execution_count": null,
   "id": "2659b686",
   "metadata": {},
   "outputs": [],
   "source": []
  },
  {
   "cell_type": "code",
   "execution_count": null,
   "id": "09c3b31e",
   "metadata": {},
   "outputs": [],
   "source": []
  },
  {
   "cell_type": "code",
   "execution_count": null,
   "id": "558acfd8",
   "metadata": {},
   "outputs": [],
   "source": []
  },
  {
   "cell_type": "code",
   "execution_count": null,
   "id": "af7e5dfc",
   "metadata": {},
   "outputs": [],
   "source": []
  },
  {
   "cell_type": "code",
   "execution_count": null,
   "id": "0076fc2c",
   "metadata": {},
   "outputs": [],
   "source": []
  }
 ],
 "metadata": {
  "kernelspec": {
   "display_name": "Python 3 (ipykernel)",
   "language": "python",
   "name": "python3"
  },
  "language_info": {
   "codemirror_mode": {
    "name": "ipython",
    "version": 3
   },
   "file_extension": ".py",
   "mimetype": "text/x-python",
   "name": "python",
   "nbconvert_exporter": "python",
   "pygments_lexer": "ipython3",
   "version": "3.9.12"
  }
 },
 "nbformat": 4,
 "nbformat_minor": 5
}
