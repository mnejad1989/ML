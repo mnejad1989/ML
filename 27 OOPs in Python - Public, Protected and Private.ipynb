{
 "cells": [
  {
   "cell_type": "code",
   "execution_count": 25,
   "id": "7bc77d7e",
   "metadata": {},
   "outputs": [],
   "source": [
    "# All the class variables are public\n",
    "# they can be accessed everywhere\n",
    "# they can be overwritten \n",
    "class car():\n",
    "    def __init__(self,windows,doors,engineType):\n",
    "        self.windows = windows\n",
    "        self.doors = doors\n",
    "        self.engineType = engineType\n",
    "        # these are public variables. like self.engineType\n",
    "    "
   ]
  },
  {
   "cell_type": "code",
   "execution_count": 17,
   "id": "b7549219",
   "metadata": {},
   "outputs": [],
   "source": [
    "audi = car(4,5,\"Diesel\")"
   ]
  },
  {
   "cell_type": "code",
   "execution_count": 19,
   "id": "a100f746",
   "metadata": {},
   "outputs": [
    {
     "data": {
      "text/plain": [
       "5"
      ]
     },
     "execution_count": 19,
     "metadata": {},
     "output_type": "execute_result"
    }
   ],
   "source": [
    "audi.doors"
   ]
  },
  {
   "cell_type": "code",
   "execution_count": 8,
   "id": "50b3a244",
   "metadata": {},
   "outputs": [
    {
     "data": {
      "text/plain": [
       "['__class__',\n",
       " '__delattr__',\n",
       " '__dict__',\n",
       " '__dir__',\n",
       " '__doc__',\n",
       " '__eq__',\n",
       " '__format__',\n",
       " '__ge__',\n",
       " '__getattribute__',\n",
       " '__gt__',\n",
       " '__hash__',\n",
       " '__init__',\n",
       " '__init_subclass__',\n",
       " '__le__',\n",
       " '__lt__',\n",
       " '__module__',\n",
       " '__ne__',\n",
       " '__new__',\n",
       " '__reduce__',\n",
       " '__reduce_ex__',\n",
       " '__repr__',\n",
       " '__setattr__',\n",
       " '__sizeof__',\n",
       " '__str__',\n",
       " '__subclasshook__',\n",
       " '__weakref__',\n",
       " 'doors',\n",
       " 'engineType',\n",
       " 'windows']"
      ]
     },
     "execution_count": 8,
     "metadata": {},
     "output_type": "execute_result"
    }
   ],
   "source": [
    "dir(audi)"
   ]
  },
  {
   "cell_type": "code",
   "execution_count": 26,
   "id": "0134b632",
   "metadata": {},
   "outputs": [],
   "source": [
    "# All the class variables are protected\n",
    "# you just add underscore _\n",
    "# it can be accessed only from subclasses\n",
    "# it can only be overwritten by subclasses\n",
    "# but python never restricts them.\n",
    "class car():\n",
    "    def __init__(self,windows,doors,engineType):\n",
    "        self._windows = windows\n",
    "        self._doors = doors\n",
    "        self._engineType = engineType\n",
    "        # these are protected variables. like self._engineType\n",
    "    "
   ]
  },
  {
   "cell_type": "code",
   "execution_count": 27,
   "id": "95a36ba4",
   "metadata": {},
   "outputs": [],
   "source": [
    "audi = car(4,5,\"Diesel\")"
   ]
  },
  {
   "cell_type": "code",
   "execution_count": 24,
   "id": "1c9018bd",
   "metadata": {},
   "outputs": [
    {
     "ename": "AttributeError",
     "evalue": "'car' object has no attribute 'doors'",
     "output_type": "error",
     "traceback": [
      "\u001b[1;31m---------------------------------------------------------------------------\u001b[0m",
      "\u001b[1;31mAttributeError\u001b[0m                            Traceback (most recent call last)",
      "Input \u001b[1;32mIn [24]\u001b[0m, in \u001b[0;36m<cell line: 2>\u001b[1;34m()\u001b[0m\n\u001b[0;32m      1\u001b[0m \u001b[38;5;66;03m# can't be accessed\u001b[39;00m\n\u001b[1;32m----> 2\u001b[0m \u001b[43maudi\u001b[49m\u001b[38;5;241;43m.\u001b[39;49m\u001b[43mdoors\u001b[49m\n",
      "\u001b[1;31mAttributeError\u001b[0m: 'car' object has no attribute 'doors'"
     ]
    }
   ],
   "source": [
    "# can't be accessed\n",
    "audi.doors"
   ]
  },
  {
   "cell_type": "code",
   "execution_count": 14,
   "id": "a990243e",
   "metadata": {},
   "outputs": [
    {
     "data": {
      "text/plain": [
       "['__class__',\n",
       " '__delattr__',\n",
       " '__dict__',\n",
       " '__dir__',\n",
       " '__doc__',\n",
       " '__eq__',\n",
       " '__format__',\n",
       " '__ge__',\n",
       " '__getattribute__',\n",
       " '__gt__',\n",
       " '__hash__',\n",
       " '__init__',\n",
       " '__init_subclass__',\n",
       " '__le__',\n",
       " '__lt__',\n",
       " '__module__',\n",
       " '__ne__',\n",
       " '__new__',\n",
       " '__reduce__',\n",
       " '__reduce_ex__',\n",
       " '__repr__',\n",
       " '__setattr__',\n",
       " '__sizeof__',\n",
       " '__str__',\n",
       " '__subclasshook__',\n",
       " '__weakref__',\n",
       " '_doors',\n",
       " '_engineType',\n",
       " '_windows']"
      ]
     },
     "execution_count": 14,
     "metadata": {},
     "output_type": "execute_result"
    }
   ],
   "source": [
    "dir(audi)"
   ]
  },
  {
   "cell_type": "code",
   "execution_count": 44,
   "id": "fbfacc8c",
   "metadata": {},
   "outputs": [],
   "source": [
    "# only the child class Truck can overwrite the protected values of car variables\n",
    "class Truck(car):\n",
    "    def __init__(self,windows,doors,engineType,horsePower):\n",
    "        # inherit all the parameters of the car class\n",
    "        # the orders of the variables are applied\n",
    "        super().__init__(windows,doors,engineType)\n",
    "        self.horsPower = horsePower"
   ]
  },
  {
   "cell_type": "code",
   "execution_count": 45,
   "id": "b2c1c001",
   "metadata": {},
   "outputs": [],
   "source": [
    "truck = Truck(4,2,\"Diesel\",4000)"
   ]
  },
  {
   "cell_type": "code",
   "execution_count": 46,
   "id": "f77eddb7",
   "metadata": {},
   "outputs": [
    {
     "data": {
      "text/plain": [
       "2"
      ]
     },
     "execution_count": 46,
     "metadata": {},
     "output_type": "execute_result"
    }
   ],
   "source": [
    "truck._doors"
   ]
  },
  {
   "cell_type": "code",
   "execution_count": 47,
   "id": "6899966a",
   "metadata": {},
   "outputs": [
    {
     "data": {
      "text/plain": [
       "['__class__',\n",
       " '__delattr__',\n",
       " '__dict__',\n",
       " '__dir__',\n",
       " '__doc__',\n",
       " '__eq__',\n",
       " '__format__',\n",
       " '__ge__',\n",
       " '__getattribute__',\n",
       " '__gt__',\n",
       " '__hash__',\n",
       " '__init__',\n",
       " '__init_subclass__',\n",
       " '__le__',\n",
       " '__lt__',\n",
       " '__module__',\n",
       " '__ne__',\n",
       " '__new__',\n",
       " '__reduce__',\n",
       " '__reduce_ex__',\n",
       " '__repr__',\n",
       " '__setattr__',\n",
       " '__sizeof__',\n",
       " '__str__',\n",
       " '__subclasshook__',\n",
       " '__weakref__',\n",
       " '_doors',\n",
       " '_engineType',\n",
       " '_windows',\n",
       " 'horsPower']"
      ]
     },
     "execution_count": 47,
     "metadata": {},
     "output_type": "execute_result"
    }
   ],
   "source": [
    "dir(truck)\n",
    "# as we can see all the variables are protected"
   ]
  },
  {
   "cell_type": "code",
   "execution_count": 48,
   "id": "5d7eecee",
   "metadata": {},
   "outputs": [
    {
     "data": {
      "text/plain": [
       "2"
      ]
     },
     "execution_count": 48,
     "metadata": {},
     "output_type": "execute_result"
    }
   ],
   "source": [
    "truck._doors"
   ]
  },
  {
   "cell_type": "code",
   "execution_count": 49,
   "id": "73c7ffd9",
   "metadata": {},
   "outputs": [],
   "source": [
    "truck._doors=5"
   ]
  },
  {
   "cell_type": "code",
   "execution_count": 50,
   "id": "807224a2",
   "metadata": {},
   "outputs": [
    {
     "data": {
      "text/plain": [
       "5"
      ]
     },
     "execution_count": 50,
     "metadata": {},
     "output_type": "execute_result"
    }
   ],
   "source": [
    "truck._doors"
   ]
  },
  {
   "cell_type": "code",
   "execution_count": 54,
   "id": "4068f2c4",
   "metadata": {},
   "outputs": [],
   "source": [
    "# All the class variables are private\n",
    "# it can not be inverited, accessed or overwritten from anywhere\n",
    "# we just add double underscore __\n",
    "class car():\n",
    "    def __init__(self,windows,doors,engineType):\n",
    "        self.__windows = windows\n",
    "        self.__doors = doors\n",
    "        self.__engineType = engineType\n",
    "    "
   ]
  },
  {
   "cell_type": "code",
   "execution_count": 55,
   "id": "e7f91cbe",
   "metadata": {},
   "outputs": [],
   "source": [
    "audi = car(4,4,\"Diesel\")"
   ]
  },
  {
   "cell_type": "code",
   "execution_count": 56,
   "id": "4462ba2b",
   "metadata": {},
   "outputs": [
    {
     "data": {
      "text/plain": [
       "['__class__',\n",
       " '__delattr__',\n",
       " '__dict__',\n",
       " '__dir__',\n",
       " '__doc__',\n",
       " '__eq__',\n",
       " '__format__',\n",
       " '__ge__',\n",
       " '__getattribute__',\n",
       " '__gt__',\n",
       " '__hash__',\n",
       " '__init__',\n",
       " '__init_subclass__',\n",
       " '__le__',\n",
       " '__lt__',\n",
       " '__module__',\n",
       " '__ne__',\n",
       " '__new__',\n",
       " '__reduce__',\n",
       " '__reduce_ex__',\n",
       " '__repr__',\n",
       " '__setattr__',\n",
       " '__sizeof__',\n",
       " '__str__',\n",
       " '__subclasshook__',\n",
       " '__weakref__',\n",
       " '_car__doors',\n",
       " '_car__engineType',\n",
       " '_car__windows']"
      ]
     },
     "execution_count": 56,
     "metadata": {},
     "output_type": "execute_result"
    }
   ],
   "source": [
    "dir(audi)"
   ]
  },
  {
   "cell_type": "markdown",
   "id": "b31c9152",
   "metadata": {},
   "source": [
    "they can be seen as\n",
    "\n",
    " '_car__doors',\n",
    " '_car__engineType',\n",
    " '_car__windows'\n",
    " \n",
    "to a python developer, this means these variables cannot be accessed or \n",
    "modified from outside of this particular class"
   ]
  },
  {
   "cell_type": "code",
   "execution_count": 59,
   "id": "295eeca7",
   "metadata": {},
   "outputs": [],
   "source": [
    "# it can be modified like this\n",
    "# in Python there is no restriction. and these are just hints \n",
    "# for the developer about how access level should be on the variables\n",
    "audi._car__doors=5"
   ]
  },
  {
   "cell_type": "code",
   "execution_count": 60,
   "id": "fcda883f",
   "metadata": {},
   "outputs": [
    {
     "data": {
      "text/plain": [
       "5"
      ]
     },
     "execution_count": 60,
     "metadata": {},
     "output_type": "execute_result"
    }
   ],
   "source": [
    "audi._car__doors"
   ]
  },
  {
   "cell_type": "markdown",
   "id": "3a9c6193",
   "metadata": {},
   "source": [
    "it gives the indication(using dir) to the developer that accessing and overwriting protected variables shoud be only within inheritance, and accessing and overwriting private variables only within the same class"
   ]
  },
  {
   "cell_type": "code",
   "execution_count": null,
   "id": "3ca4bdd6",
   "metadata": {},
   "outputs": [],
   "source": []
  }
 ],
 "metadata": {
  "kernelspec": {
   "display_name": "Python 3 (ipykernel)",
   "language": "python",
   "name": "python3"
  },
  "language_info": {
   "codemirror_mode": {
    "name": "ipython",
    "version": 3
   },
   "file_extension": ".py",
   "mimetype": "text/x-python",
   "name": "python",
   "nbconvert_exporter": "python",
   "pygments_lexer": "ipython3",
   "version": "3.9.12"
  }
 },
 "nbformat": 4,
 "nbformat_minor": 5
}
