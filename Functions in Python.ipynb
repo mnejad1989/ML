{
 "cells": [
  {
   "cell_type": "markdown",
   "id": "6d4936f0",
   "metadata": {},
   "source": [
    "- Why functions\n",
    "- Function Definition\n",
    "- Positional and keyword Arguments in Function"
   ]
  },
  {
   "cell_type": "code",
   "execution_count": 1,
   "id": "9a730131",
   "metadata": {},
   "outputs": [
    {
     "name": "stdout",
     "output_type": "stream",
     "text": [
      "The number is even\n"
     ]
    }
   ],
   "source": [
    "num = 24\n",
    "if num%2 == 0:\n",
    "    print(\"The number is even\")\n",
    "else:\n",
    "    print(\"The number is odd\")"
   ]
  },
  {
   "cell_type": "code",
   "execution_count": 2,
   "id": "2a4bb572",
   "metadata": {},
   "outputs": [],
   "source": [
    "def even_odd(num):\n",
    "    if num%2 == 0:\n",
    "        print(\"The number is even\")\n",
    "    else:\n",
    "        print(\"The number is odd\")"
   ]
  },
  {
   "cell_type": "code",
   "execution_count": 3,
   "id": "6309d4ea",
   "metadata": {},
   "outputs": [
    {
     "name": "stdout",
     "output_type": "stream",
     "text": [
      "The number is even\n"
     ]
    }
   ],
   "source": [
    "even_odd(24)"
   ]
  },
  {
   "cell_type": "code",
   "execution_count": 4,
   "id": "1c51b36d",
   "metadata": {},
   "outputs": [],
   "source": [
    "# print vs return\n",
    "def hello_word():\n",
    "    print(\"Hello\")"
   ]
  },
  {
   "cell_type": "code",
   "execution_count": 5,
   "id": "8c11d4ef",
   "metadata": {},
   "outputs": [
    {
     "name": "stdout",
     "output_type": "stream",
     "text": [
      "Hello\n"
     ]
    }
   ],
   "source": [
    "hello_word()"
   ]
  },
  {
   "cell_type": "code",
   "execution_count": 6,
   "id": "ff97790f",
   "metadata": {},
   "outputs": [
    {
     "name": "stdout",
     "output_type": "stream",
     "text": [
      "Hello\n"
     ]
    }
   ],
   "source": [
    "val=hello_word()"
   ]
  },
  {
   "cell_type": "code",
   "execution_count": 7,
   "id": "f5aefcdf",
   "metadata": {},
   "outputs": [
    {
     "name": "stdout",
     "output_type": "stream",
     "text": [
      "None\n"
     ]
    }
   ],
   "source": [
    "print(val)"
   ]
  },
  {
   "cell_type": "code",
   "execution_count": 8,
   "id": "b81871c2",
   "metadata": {},
   "outputs": [],
   "source": [
    "def hello_word():\n",
    "    return(\"Hello\")"
   ]
  },
  {
   "cell_type": "code",
   "execution_count": 9,
   "id": "a49efa6d",
   "metadata": {},
   "outputs": [],
   "source": [
    "val=hello_word()"
   ]
  },
  {
   "cell_type": "code",
   "execution_count": 10,
   "id": "059535e4",
   "metadata": {},
   "outputs": [
    {
     "name": "stdout",
     "output_type": "stream",
     "text": [
      "Hello\n"
     ]
    }
   ],
   "source": [
    "print(val)"
   ]
  },
  {
   "cell_type": "code",
   "execution_count": 11,
   "id": "ab38f6ec",
   "metadata": {},
   "outputs": [],
   "source": [
    "def add_number(num1,num2):\n",
    "    return(num1+num2)"
   ]
  },
  {
   "cell_type": "code",
   "execution_count": 12,
   "id": "8f3fd120",
   "metadata": {},
   "outputs": [
    {
     "data": {
      "text/plain": [
       "25"
      ]
     },
     "execution_count": 12,
     "metadata": {},
     "output_type": "execute_result"
    }
   ],
   "source": [
    "add_number(12,13)"
   ]
  },
  {
   "cell_type": "code",
   "execution_count": 13,
   "id": "574dfd84",
   "metadata": {},
   "outputs": [],
   "source": [
    "val=add_number(12,13)"
   ]
  },
  {
   "cell_type": "code",
   "execution_count": 14,
   "id": "d8095793",
   "metadata": {},
   "outputs": [
    {
     "name": "stdout",
     "output_type": "stream",
     "text": [
      "25\n"
     ]
    }
   ],
   "source": [
    "print(val)"
   ]
  },
  {
   "cell_type": "code",
   "execution_count": 19,
   "id": "207fa738",
   "metadata": {},
   "outputs": [],
   "source": [
    "## positional argument\n",
    "## keyword argument\n",
    "\n",
    "def hello(name,age=33):\n",
    "    print(\"My name is {} and my age is {}\".format(name,age))    "
   ]
  },
  {
   "cell_type": "code",
   "execution_count": 20,
   "id": "e7e0b051",
   "metadata": {},
   "outputs": [
    {
     "ename": "TypeError",
     "evalue": "hello() missing 1 required positional argument: 'name'",
     "output_type": "error",
     "traceback": [
      "\u001b[1;31m---------------------------------------------------------------------------\u001b[0m",
      "\u001b[1;31mTypeError\u001b[0m                                 Traceback (most recent call last)",
      "Input \u001b[1;32mIn [20]\u001b[0m, in \u001b[0;36m<cell line: 1>\u001b[1;34m()\u001b[0m\n\u001b[1;32m----> 1\u001b[0m \u001b[43mhello\u001b[49m\u001b[43m(\u001b[49m\u001b[43m)\u001b[49m\n",
      "\u001b[1;31mTypeError\u001b[0m: hello() missing 1 required positional argument: 'name'"
     ]
    }
   ],
   "source": [
    "hello()"
   ]
  },
  {
   "cell_type": "code",
   "execution_count": 21,
   "id": "7320e229",
   "metadata": {},
   "outputs": [
    {
     "name": "stdout",
     "output_type": "stream",
     "text": [
      "My name is mamad and my age is 33\n"
     ]
    }
   ],
   "source": [
    "hello(\"mamad\")"
   ]
  },
  {
   "cell_type": "code",
   "execution_count": 22,
   "id": "3199a6c1",
   "metadata": {},
   "outputs": [
    {
     "name": "stdout",
     "output_type": "stream",
     "text": [
      "My name is m and my age is 21\n"
     ]
    }
   ],
   "source": [
    "hello(\"m\",21)"
   ]
  },
  {
   "cell_type": "code",
   "execution_count": 23,
   "id": "74bc33cc",
   "metadata": {},
   "outputs": [],
   "source": [
    "## positional argument\n",
    "## keyword argument\n",
    "\n",
    "def hello(*args,**kwargs):\n",
    "    print(args)\n",
    "    print(kwargs)"
   ]
  },
  {
   "cell_type": "code",
   "execution_count": 24,
   "id": "cfd689d4",
   "metadata": {},
   "outputs": [
    {
     "name": "stdout",
     "output_type": "stream",
     "text": [
      "()\n",
      "{}\n"
     ]
    }
   ],
   "source": [
    "hello()"
   ]
  },
  {
   "cell_type": "code",
   "execution_count": 25,
   "id": "65ff19a7",
   "metadata": {},
   "outputs": [
    {
     "name": "stdout",
     "output_type": "stream",
     "text": [
      "('mamad', 'nejad')\n",
      "{'age': 29, 'dob': 1989}\n"
     ]
    }
   ],
   "source": [
    "hello(\"mamad\",\"nejad\",age=29,dob=1989)"
   ]
  },
  {
   "cell_type": "code",
   "execution_count": 26,
   "id": "2b14ef58",
   "metadata": {},
   "outputs": [
    {
     "name": "stdout",
     "output_type": "stream",
     "text": [
      "('mamad', 'nejad', 29, 1989)\n",
      "{}\n"
     ]
    }
   ],
   "source": [
    "hello(\"mamad\",\"nejad\",29,1989)"
   ]
  },
  {
   "cell_type": "code",
   "execution_count": 27,
   "id": "18e6f69c",
   "metadata": {},
   "outputs": [],
   "source": [
    "lst=[\"mamad\",\"nejad\"]\n",
    "dic_args={'age':29,'dob':1989}"
   ]
  },
  {
   "cell_type": "code",
   "execution_count": 28,
   "id": "a22cb09f",
   "metadata": {},
   "outputs": [
    {
     "name": "stdout",
     "output_type": "stream",
     "text": [
      "(['mamad', 'nejad'], {'age': 29, 'dob': 1989})\n",
      "{}\n"
     ]
    }
   ],
   "source": [
    "hello(lst,dic_args)"
   ]
  },
  {
   "cell_type": "code",
   "execution_count": 29,
   "id": "798e12f1",
   "metadata": {},
   "outputs": [
    {
     "name": "stdout",
     "output_type": "stream",
     "text": [
      "('mamad', 'nejad')\n",
      "{'age': 29, 'dob': 1989}\n"
     ]
    }
   ],
   "source": [
    "hello(*lst,**dic_args)"
   ]
  },
  {
   "cell_type": "code",
   "execution_count": 30,
   "id": "5202b110",
   "metadata": {},
   "outputs": [],
   "source": [
    "lst=[1,2,3,4,5,6,7]"
   ]
  },
  {
   "cell_type": "code",
   "execution_count": 34,
   "id": "d7930c7d",
   "metadata": {},
   "outputs": [],
   "source": [
    "def EvenOddSum(lst):\n",
    "    even_sum=0\n",
    "    odd_sum=0\n",
    "    for i in lst:\n",
    "        if i%2==0:\n",
    "            even_sum+=i\n",
    "        else:\n",
    "            odd_sum+=i\n",
    "    return even_sum,odd_sum"
   ]
  },
  {
   "cell_type": "code",
   "execution_count": 35,
   "id": "14ae30d4",
   "metadata": {},
   "outputs": [
    {
     "data": {
      "text/plain": [
       "(12, 16)"
      ]
     },
     "execution_count": 35,
     "metadata": {},
     "output_type": "execute_result"
    }
   ],
   "source": [
    "EvenOddSum(lst)"
   ]
  },
  {
   "cell_type": "code",
   "execution_count": null,
   "id": "3926de5b",
   "metadata": {},
   "outputs": [],
   "source": []
  },
  {
   "cell_type": "code",
   "execution_count": null,
   "id": "8c14177f",
   "metadata": {},
   "outputs": [],
   "source": []
  },
  {
   "cell_type": "code",
   "execution_count": null,
   "id": "9d650f75",
   "metadata": {},
   "outputs": [],
   "source": []
  },
  {
   "cell_type": "code",
   "execution_count": null,
   "id": "17a935ad",
   "metadata": {},
   "outputs": [],
   "source": []
  }
 ],
 "metadata": {
  "kernelspec": {
   "display_name": "Python 3 (ipykernel)",
   "language": "python",
   "name": "python3"
  },
  "language_info": {
   "codemirror_mode": {
    "name": "ipython",
    "version": 3
   },
   "file_extension": ".py",
   "mimetype": "text/x-python",
   "name": "python",
   "nbconvert_exporter": "python",
   "pygments_lexer": "ipython3",
   "version": "3.9.12"
  }
 },
 "nbformat": 4,
 "nbformat_minor": 5
}
