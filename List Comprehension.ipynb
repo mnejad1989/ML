{
 "cells": [
  {
   "cell_type": "markdown",
   "id": "5cfb9706",
   "metadata": {},
   "source": [
    "# List comprehensions\n",
    "\n",
    "List comprehensions provide a consice(giving a lot of information clearly and in a few words; brief but comprehensive) way to create lists.\n",
    "\n",
    "It consists of brackets containing an expression followed by a for clause, then zero or more for if clauses.\n",
    "\n",
    "The expressions can be anything, meaning you can put in all kinds of objects in lists."
   ]
  },
  {
   "cell_type": "code",
   "execution_count": 2,
   "id": "282d5d02",
   "metadata": {},
   "outputs": [],
   "source": [
    "lst1 =[]\n",
    "\n",
    "def lst_square(lst):\n",
    "    for i in lst:\n",
    "        lst1.append(i*i)\n",
    "    return lst1"
   ]
  },
  {
   "cell_type": "code",
   "execution_count": 3,
   "id": "9f7ccd31",
   "metadata": {},
   "outputs": [],
   "source": [
    "lst=[1,2,3,4]"
   ]
  },
  {
   "cell_type": "code",
   "execution_count": 4,
   "id": "d7772dc8",
   "metadata": {},
   "outputs": [
    {
     "data": {
      "text/plain": [
       "[1, 4, 9, 16]"
      ]
     },
     "execution_count": 4,
     "metadata": {},
     "output_type": "execute_result"
    }
   ],
   "source": [
    "lst_square(lst)"
   ]
  },
  {
   "cell_type": "code",
   "execution_count": 14,
   "id": "494a1cbb",
   "metadata": {},
   "outputs": [
    {
     "data": {
      "text/plain": [
       "[1, 4, 9, 16]"
      ]
     },
     "execution_count": 14,
     "metadata": {},
     "output_type": "execute_result"
    }
   ],
   "source": [
    "## list comprehension\n",
    "[i*i for i in lst]"
   ]
  },
  {
   "cell_type": "code",
   "execution_count": 6,
   "id": "5078be6b",
   "metadata": {},
   "outputs": [],
   "source": [
    "l = [i*i for i in lst]"
   ]
  },
  {
   "cell_type": "code",
   "execution_count": 7,
   "id": "a0789c18",
   "metadata": {},
   "outputs": [
    {
     "name": "stdout",
     "output_type": "stream",
     "text": [
      "[1, 4, 9, 16]\n"
     ]
    }
   ],
   "source": [
    "print(l)"
   ]
  },
  {
   "cell_type": "code",
   "execution_count": 10,
   "id": "b99d7b9d",
   "metadata": {},
   "outputs": [],
   "source": [
    "l2 = l = [i*i for i in lst if i%2 == 0]"
   ]
  },
  {
   "cell_type": "code",
   "execution_count": 11,
   "id": "a9a5c70d",
   "metadata": {},
   "outputs": [
    {
     "data": {
      "text/plain": [
       "[4, 16]"
      ]
     },
     "execution_count": 11,
     "metadata": {},
     "output_type": "execute_result"
    }
   ],
   "source": [
    "l2"
   ]
  },
  {
   "cell_type": "code",
   "execution_count": 12,
   "id": "800c3259",
   "metadata": {},
   "outputs": [],
   "source": [
    "l3 = l = [i*i for i in lst if i%2 != 0]"
   ]
  },
  {
   "cell_type": "code",
   "execution_count": 13,
   "id": "16d2a426",
   "metadata": {},
   "outputs": [
    {
     "data": {
      "text/plain": [
       "[1, 9]"
      ]
     },
     "execution_count": 13,
     "metadata": {},
     "output_type": "execute_result"
    }
   ],
   "source": [
    "l3"
   ]
  },
  {
   "cell_type": "code",
   "execution_count": null,
   "id": "b6641610",
   "metadata": {},
   "outputs": [],
   "source": []
  }
 ],
 "metadata": {
  "kernelspec": {
   "display_name": "Python 3 (ipykernel)",
   "language": "python",
   "name": "python3"
  },
  "language_info": {
   "codemirror_mode": {
    "name": "ipython",
    "version": 3
   },
   "file_extension": ".py",
   "mimetype": "text/x-python",
   "name": "python",
   "nbconvert_exporter": "python",
   "pygments_lexer": "ipython3",
   "version": "3.9.12"
  }
 },
 "nbformat": 4,
 "nbformat_minor": 5
}
