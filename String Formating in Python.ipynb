{
 "cells": [
  {
   "cell_type": "code",
   "execution_count": 1,
   "id": "0e204698",
   "metadata": {},
   "outputs": [
    {
     "name": "stdout",
     "output_type": "stream",
     "text": [
      "Hello Everyone!\n"
     ]
    }
   ],
   "source": [
    "print(\"Hello Everyone!\")"
   ]
  },
  {
   "cell_type": "code",
   "execution_count": 2,
   "id": "98988b98",
   "metadata": {},
   "outputs": [],
   "source": [
    "def greeting(name):\n",
    "    return \"Hello {}. Welcome to the comunity\".format(name)"
   ]
  },
  {
   "cell_type": "code",
   "execution_count": 3,
   "id": "35907c3e",
   "metadata": {},
   "outputs": [
    {
     "data": {
      "text/plain": [
       "'Hello mamad. Welcome to the comunity'"
      ]
     },
     "execution_count": 3,
     "metadata": {},
     "output_type": "execute_result"
    }
   ],
   "source": [
    "greeting(\"mamad\")"
   ]
  },
  {
   "cell_type": "code",
   "execution_count": 8,
   "id": "65504b61",
   "metadata": {},
   "outputs": [],
   "source": [
    "def welcome_email(fname,lname):\n",
    "    return \"Welcome {}! Everyone please welcome {} {}\".format(fname,fname,lname)"
   ]
  },
  {
   "cell_type": "code",
   "execution_count": 9,
   "id": "9314370e",
   "metadata": {},
   "outputs": [
    {
     "data": {
      "text/plain": [
       "'Welcome mamad! Everyone please welcome mamad nejad'"
      ]
     },
     "execution_count": 9,
     "metadata": {},
     "output_type": "execute_result"
    }
   ],
   "source": [
    "welcome_email(\"mamad\",\"nejad\")"
   ]
  },
  {
   "cell_type": "code",
   "execution_count": 17,
   "id": "ca173716",
   "metadata": {},
   "outputs": [],
   "source": [
    "def welcome_email(name,age):\n",
    "    return \"Welcome {}! Your age is {}\".format(name,age)"
   ]
  },
  {
   "cell_type": "code",
   "execution_count": 18,
   "id": "ce057c39",
   "metadata": {},
   "outputs": [
    {
     "data": {
      "text/plain": [
       "'Welcome mamad! Your age is 33'"
      ]
     },
     "execution_count": 18,
     "metadata": {},
     "output_type": "execute_result"
    }
   ],
   "source": [
    "welcome_email(\"mamad\",33)"
   ]
  },
  {
   "cell_type": "code",
   "execution_count": 23,
   "id": "c05fb64d",
   "metadata": {},
   "outputs": [],
   "source": [
    "def welcome_email(name,age):\n",
    "    return \"Welcome {}! Your age is {}\".format(age,name)"
   ]
  },
  {
   "cell_type": "code",
   "execution_count": 24,
   "id": "b7ff60ab",
   "metadata": {},
   "outputs": [
    {
     "data": {
      "text/plain": [
       "'Welcome 33! Your age is mamad'"
      ]
     },
     "execution_count": 24,
     "metadata": {},
     "output_type": "execute_result"
    }
   ],
   "source": [
    "welcome_email(\"mamad\",33)"
   ]
  },
  {
   "cell_type": "code",
   "execution_count": 25,
   "id": "861e188a",
   "metadata": {},
   "outputs": [],
   "source": [
    "def welcome_email(name,age):\n",
    "    return \"Welcome {name}! Your age is {age}\".format(age=age,name=name)"
   ]
  },
  {
   "cell_type": "code",
   "execution_count": 26,
   "id": "2243b85e",
   "metadata": {},
   "outputs": [
    {
     "data": {
      "text/plain": [
       "'Welcome mamad! Your age is 33'"
      ]
     },
     "execution_count": 26,
     "metadata": {},
     "output_type": "execute_result"
    }
   ],
   "source": [
    "welcome_email(\"mamad\",33)"
   ]
  },
  {
   "cell_type": "code",
   "execution_count": null,
   "id": "46d6ff7b",
   "metadata": {},
   "outputs": [],
   "source": []
  }
 ],
 "metadata": {
  "kernelspec": {
   "display_name": "Python 3 (ipykernel)",
   "language": "python",
   "name": "python3"
  },
  "language_info": {
   "codemirror_mode": {
    "name": "ipython",
    "version": 3
   },
   "file_extension": ".py",
   "mimetype": "text/x-python",
   "name": "python",
   "nbconvert_exporter": "python",
   "pygments_lexer": "ipython3",
   "version": "3.9.12"
  }
 },
 "nbformat": 4,
 "nbformat_minor": 5
}
